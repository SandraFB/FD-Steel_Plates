{
  "nbformat": 4,
  "nbformat_minor": 0,
  "metadata": {
    "colab": {
      "name": "FD-Evaluacion.ipynb",
      "provenance": [],
      "collapsed_sections": [],
      "machine_shape": "hm"
    },
    "kernelspec": {
      "display_name": "Python 3",
      "name": "python3"
    },
    "language_info": {
      "name": "python"
    },
    "accelerator": "GPU"
  },
  "cells": [
    {
      "cell_type": "markdown",
      "metadata": {
        "id": "0t4_r5ipz1yK"
      },
      "source": [
        "# Evaluación técnica de candidatos - Científico de datos\n",
        "## Objetivo:\n",
        "Modela un clasificador sencillo en Python o R para  identificar el tipo de defecto que presenta el planchón.\n",
        "## Datos de entrada: \n",
        "1. Un archivo TRAIN en formato tabla con 27 atributos/variables independientes, 7 clases/ variables dependientes y 1455 observaciones.\n",
        "Las clases: \n",
        "* Pastry\n",
        "* Z_Scratch\n",
        "* K_Scatch\n",
        "* Stains\n",
        "* Dirtiness\n",
        "* Bumps\n",
        "* Other_Faults, \n",
        "son defectos que se encuentran en los planchones de acero. \n",
        "2. Un archivo TEST en formato tabla con  27 atributos/variables y 485 observaciones sobre las que se hará la clasificación de las variables faltantes. \n",
        "\n",
        "## Entregable: \n",
        "1. El archivo en formato tabla, con las clases concatenadas al final del archivo, siguiendo el formato del archivo TRAIN.\n",
        "2. El código en R o Python con el que se obtuvo la clasificación, debidamente comentado. \n",
        "3. Adicionalmente, se pueden entregar visualizaciones del set de datos y de la solución propuesta, así como su justificación. \n"
      ]
    },
    {
      "cell_type": "markdown",
      "metadata": {
        "id": "yf--bbKk0l1B"
      },
      "source": [
        "```\n",
        "\"Fallas en planchones de acero\"\n",
        "\n",
        "Elaborado por Sandra de la Fuente\n",
        "2021-08-21\n",
        "Dudas: contacto@sandradelafuente.com\n",
        "```\n",
        "\n"
      ]
    },
    {
      "cell_type": "markdown",
      "metadata": {
        "id": "PK_I9XUK1IeA"
      },
      "source": [
        "# Lectura y visualización de datos"
      ]
    },
    {
      "cell_type": "code",
      "metadata": {
        "colab": {
          "base_uri": "https://localhost:8080/"
        },
        "id": "qzF4zqjK3OPe",
        "outputId": "a432614b-99d0-4e31-a9f0-a5923ccf0062"
      },
      "source": [
        "######################################\n",
        "#Carga de dataframe al cuadernillo\n",
        "#Los archivos fueron cargados previamente a Google Drive en correo personal con la dirección 'My Drive/Colab Notebooks/Tecnoap/Evaluacion'\n",
        "from google.colab import drive #La autenticación de la cuenta de google drive es necesaria. Para mayor información, consulte https://colab.research.google.com/notebooks/io.ipynb\n",
        "drive.mount('/content/drive') #Se monta la carpeta raíz de Google Drive al cuadernillo de trabajo.\n",
        "!cp \"/content/drive/My Drive/Colab Notebooks/Tecnoap/Evaluacion/Faults.train\" \"Faults.train\" #Se carga una copia del archivo \"Faults.train\" al espacio de trabajo.\n",
        "!cp \"/content/drive/My Drive/Colab Notebooks/Tecnoap/Evaluacion/Faults.test\" \"Faults.test\" #Se carga una copia del archivo \"Faults.test\" al espacio de trabajo.\n",
        "#######################################"
      ],
      "execution_count": 1,
      "outputs": [
        {
          "output_type": "stream",
          "text": [
            "Drive already mounted at /content/drive; to attempt to forcibly remount, call drive.mount(\"/content/drive\", force_remount=True).\n"
          ],
          "name": "stdout"
        }
      ]
    },
    {
      "cell_type": "code",
      "metadata": {
        "id": "QJ10LfpUE7MI"
      },
      "source": [
        "import warnings #Se importa la librería de notificaciones\n",
        "warnings.filterwarnings('ignore') #Se omiten las notificaciones no relevantes en el código para hacer más amigable el código.\n",
        "import rpy2.robjects as robjects #Se carga la paquetería de R para trabajar en R desde el entorno de Python 3, para este ejemplo.\n",
        "%load_ext rpy2.ipython \n",
        "\n",
        "#Esta extensión nos permitirá establecer si queremos lenguaje R en la línea de código como \"%%R\""
      ],
      "execution_count": 2,
      "outputs": []
    },
    {
      "cell_type": "code",
      "metadata": {
        "colab": {
          "base_uri": "https://localhost:8080/"
        },
        "id": "ekKjbsSMqtTh",
        "outputId": "3b1531da-a5d5-487f-80d9-50effbc1996c"
      },
      "source": [
        "%tensorflow_version 2.x\n",
        "import tensorflow as tf\n",
        "import timeit\n",
        "\n",
        "device_name = tf.test.gpu_device_name()\n",
        "if device_name != '/device:GPU:0':\n",
        "  print(\n",
        "      '\\n\\nThis error most likely means that this notebook is not '\n",
        "      'configured to use a GPU.  Change this in Notebook Settings via the '\n",
        "      'command palette (cmd/ctrl-shift-P) or the Edit menu.\\n\\n')\n",
        "  raise SystemError('GPU device not found')\n",
        "\n",
        "def gpu():\n",
        "  with tf.device('/device:GPU:0'):\n",
        "    random_image_gpu = tf.random.normal((100, 100, 100, 3))\n",
        "    net_gpu = tf.keras.layers.Conv2D(32, 7)(random_image_gpu)\n",
        "    return tf.math.reduce_sum(net_gpu)\n",
        "  \n",
        "# We run each op once to warm up; see: https://stackoverflow.com/a/45067900\n",
        "gpu()"
      ],
      "execution_count": 3,
      "outputs": [
        {
          "output_type": "execute_result",
          "data": {
            "text/plain": [
              "<tf.Tensor: shape=(), dtype=float32, numpy=1732.2793>"
            ]
          },
          "metadata": {},
          "execution_count": 3
        }
      ]
    },
    {
      "cell_type": "code",
      "metadata": {
        "colab": {
          "base_uri": "https://localhost:8080/"
        },
        "id": "6tUq82BxE_fL",
        "outputId": "95cbe6f0-90da-4311-95a4-d8601ff17a75"
      },
      "source": [
        "%%R \n",
        "# %%R <- Lenguaje de la línea de código: R \n",
        "pkgs_Sec1 <- c('rsample', 'tidyverse', 'patchwork','caret', 'skimr')\n",
        "install.packages(pkgs_Sec1)\n",
        "library(rsample) \n",
        "library(tidyverse)\n",
        "library(patchwork)\n",
        "library(ggplot2)\n",
        "library(caret)\n",
        "library(skimr)"
      ],
      "execution_count": 4,
      "outputs": [
        {
          "output_type": "stream",
          "text": [
            "R[write to console]: Installing packages into ‘/usr/local/lib/R/site-library’\n",
            "(as ‘lib’ is unspecified)\n",
            "\n",
            "R[write to console]: trying URL 'https://cran.rstudio.com/src/contrib/rsample_0.1.0.tar.gz'\n",
            "\n",
            "R[write to console]: Content type 'application/x-gzip'\n",
            "R[write to console]:  length 280155 bytes (273 KB)\n",
            "\n",
            "R[write to console]: =\n",
            "R[write to console]: =\n",
            "R[write to console]: =\n",
            "R[write to console]: =\n",
            "R[write to console]: =\n",
            "R[write to console]: =\n",
            "R[write to console]: =\n",
            "R[write to console]: =\n",
            "R[write to console]: =\n",
            "R[write to console]: =\n",
            "R[write to console]: =\n",
            "R[write to console]: =\n",
            "R[write to console]: =\n",
            "R[write to console]: =\n",
            "R[write to console]: =\n",
            "R[write to console]: =\n",
            "R[write to console]: =\n",
            "R[write to console]: =\n",
            "R[write to console]: =\n",
            "R[write to console]: =\n",
            "R[write to console]: =\n",
            "R[write to console]: =\n",
            "R[write to console]: =\n",
            "R[write to console]: =\n",
            "R[write to console]: =\n",
            "R[write to console]: =\n",
            "R[write to console]: =\n",
            "R[write to console]: =\n",
            "R[write to console]: =\n",
            "R[write to console]: =\n",
            "R[write to console]: =\n",
            "R[write to console]: =\n",
            "R[write to console]: =\n",
            "R[write to console]: =\n",
            "R[write to console]: =\n",
            "R[write to console]: =\n",
            "R[write to console]: =\n",
            "R[write to console]: =\n",
            "R[write to console]: =\n",
            "R[write to console]: =\n",
            "R[write to console]: =\n",
            "R[write to console]: =\n",
            "R[write to console]: =\n",
            "R[write to console]: =\n",
            "R[write to console]: =\n",
            "R[write to console]: =\n",
            "R[write to console]: =\n",
            "R[write to console]: =\n",
            "R[write to console]: =\n",
            "R[write to console]: =\n",
            "R[write to console]: \n",
            "\n",
            "R[write to console]: downloaded 273 KB\n",
            "\n",
            "\n",
            "R[write to console]: trying URL 'https://cran.rstudio.com/src/contrib/tidyverse_1.3.1.tar.gz'\n",
            "\n",
            "R[write to console]: Content type 'application/x-gzip'\n",
            "R[write to console]:  length 702779 bytes (686 KB)\n",
            "\n",
            "R[write to console]: =\n",
            "R[write to console]: =\n",
            "R[write to console]: =\n",
            "R[write to console]: =\n",
            "R[write to console]: =\n",
            "R[write to console]: =\n",
            "R[write to console]: =\n",
            "R[write to console]: =\n",
            "R[write to console]: =\n",
            "R[write to console]: =\n",
            "R[write to console]: =\n",
            "R[write to console]: =\n",
            "R[write to console]: =\n",
            "R[write to console]: =\n",
            "R[write to console]: =\n",
            "R[write to console]: =\n",
            "R[write to console]: =\n",
            "R[write to console]: =\n",
            "R[write to console]: =\n",
            "R[write to console]: =\n",
            "R[write to console]: =\n",
            "R[write to console]: =\n",
            "R[write to console]: =\n",
            "R[write to console]: =\n",
            "R[write to console]: =\n",
            "R[write to console]: =\n",
            "R[write to console]: =\n",
            "R[write to console]: =\n",
            "R[write to console]: =\n",
            "R[write to console]: =\n",
            "R[write to console]: =\n",
            "R[write to console]: =\n",
            "R[write to console]: =\n",
            "R[write to console]: =\n",
            "R[write to console]: =\n",
            "R[write to console]: =\n",
            "R[write to console]: =\n",
            "R[write to console]: =\n",
            "R[write to console]: =\n",
            "R[write to console]: =\n",
            "R[write to console]: =\n",
            "R[write to console]: =\n",
            "R[write to console]: =\n",
            "R[write to console]: =\n",
            "R[write to console]: =\n",
            "R[write to console]: =\n",
            "R[write to console]: =\n",
            "R[write to console]: =\n",
            "R[write to console]: =\n",
            "R[write to console]: =\n",
            "R[write to console]: \n",
            "\n",
            "R[write to console]: downloaded 686 KB\n",
            "\n",
            "\n",
            "R[write to console]: trying URL 'https://cran.rstudio.com/src/contrib/patchwork_1.1.1.tar.gz'\n",
            "\n",
            "R[write to console]: Content type 'application/x-gzip'\n",
            "R[write to console]:  length 3193762 bytes (3.0 MB)\n",
            "\n",
            "R[write to console]: =\n",
            "R[write to console]: =\n",
            "R[write to console]: =\n",
            "R[write to console]: =\n",
            "R[write to console]: =\n",
            "R[write to console]: =\n",
            "R[write to console]: =\n",
            "R[write to console]: =\n",
            "R[write to console]: =\n",
            "R[write to console]: =\n",
            "R[write to console]: =\n",
            "R[write to console]: =\n",
            "R[write to console]: =\n",
            "R[write to console]: =\n",
            "R[write to console]: =\n",
            "R[write to console]: =\n",
            "R[write to console]: =\n",
            "R[write to console]: =\n",
            "R[write to console]: =\n",
            "R[write to console]: =\n",
            "R[write to console]: =\n",
            "R[write to console]: =\n",
            "R[write to console]: =\n",
            "R[write to console]: =\n",
            "R[write to console]: =\n",
            "R[write to console]: =\n",
            "R[write to console]: =\n",
            "R[write to console]: =\n",
            "R[write to console]: =\n",
            "R[write to console]: =\n",
            "R[write to console]: =\n",
            "R[write to console]: =\n",
            "R[write to console]: =\n",
            "R[write to console]: =\n",
            "R[write to console]: =\n",
            "R[write to console]: =\n",
            "R[write to console]: =\n",
            "R[write to console]: =\n",
            "R[write to console]: =\n",
            "R[write to console]: =\n",
            "R[write to console]: =\n",
            "R[write to console]: =\n",
            "R[write to console]: =\n",
            "R[write to console]: =\n",
            "R[write to console]: =\n",
            "R[write to console]: =\n",
            "R[write to console]: =\n",
            "R[write to console]: =\n",
            "R[write to console]: =\n",
            "R[write to console]: =\n",
            "R[write to console]: \n",
            "\n",
            "R[write to console]: downloaded 3.0 MB\n",
            "\n",
            "\n",
            "R[write to console]: trying URL 'https://cran.rstudio.com/src/contrib/caret_6.0-88.tar.gz'\n",
            "\n",
            "R[write to console]: Content type 'application/x-gzip'\n",
            "R[write to console]:  length 5302728 bytes (5.1 MB)\n",
            "\n",
            "R[write to console]: =\n",
            "R[write to console]: =\n",
            "R[write to console]: =\n",
            "R[write to console]: =\n",
            "R[write to console]: =\n",
            "R[write to console]: =\n",
            "R[write to console]: =\n",
            "R[write to console]: =\n",
            "R[write to console]: =\n",
            "R[write to console]: =\n",
            "R[write to console]: =\n",
            "R[write to console]: =\n",
            "R[write to console]: =\n",
            "R[write to console]: =\n",
            "R[write to console]: =\n",
            "R[write to console]: =\n",
            "R[write to console]: =\n",
            "R[write to console]: =\n",
            "R[write to console]: =\n",
            "R[write to console]: =\n",
            "R[write to console]: =\n",
            "R[write to console]: =\n",
            "R[write to console]: =\n",
            "R[write to console]: =\n",
            "R[write to console]: =\n",
            "R[write to console]: =\n",
            "R[write to console]: =\n",
            "R[write to console]: =\n",
            "R[write to console]: =\n",
            "R[write to console]: =\n",
            "R[write to console]: =\n",
            "R[write to console]: =\n",
            "R[write to console]: =\n",
            "R[write to console]: =\n",
            "R[write to console]: =\n",
            "R[write to console]: =\n",
            "R[write to console]: =\n",
            "R[write to console]: =\n",
            "R[write to console]: =\n",
            "R[write to console]: =\n",
            "R[write to console]: =\n",
            "R[write to console]: =\n",
            "R[write to console]: =\n",
            "R[write to console]: =\n",
            "R[write to console]: =\n",
            "R[write to console]: =\n",
            "R[write to console]: =\n",
            "R[write to console]: =\n",
            "R[write to console]: =\n",
            "R[write to console]: =\n",
            "R[write to console]: \n",
            "\n",
            "R[write to console]: downloaded 5.1 MB\n",
            "\n",
            "\n",
            "R[write to console]: trying URL 'https://cran.rstudio.com/src/contrib/skimr_2.1.3.tar.gz'\n",
            "\n",
            "R[write to console]: Content type 'application/x-gzip'\n",
            "R[write to console]:  length 1123181 bytes (1.1 MB)\n",
            "\n",
            "R[write to console]: =\n",
            "R[write to console]: =\n",
            "R[write to console]: =\n",
            "R[write to console]: =\n",
            "R[write to console]: =\n",
            "R[write to console]: =\n",
            "R[write to console]: =\n",
            "R[write to console]: =\n",
            "R[write to console]: =\n",
            "R[write to console]: =\n",
            "R[write to console]: =\n",
            "R[write to console]: =\n",
            "R[write to console]: =\n",
            "R[write to console]: =\n",
            "R[write to console]: =\n",
            "R[write to console]: =\n",
            "R[write to console]: =\n",
            "R[write to console]: =\n",
            "R[write to console]: =\n",
            "R[write to console]: =\n",
            "R[write to console]: =\n",
            "R[write to console]: =\n",
            "R[write to console]: =\n",
            "R[write to console]: =\n",
            "R[write to console]: =\n",
            "R[write to console]: =\n",
            "R[write to console]: =\n",
            "R[write to console]: =\n",
            "R[write to console]: =\n",
            "R[write to console]: =\n",
            "R[write to console]: =\n",
            "R[write to console]: =\n",
            "R[write to console]: =\n",
            "R[write to console]: =\n",
            "R[write to console]: =\n",
            "R[write to console]: =\n",
            "R[write to console]: =\n",
            "R[write to console]: =\n",
            "R[write to console]: =\n",
            "R[write to console]: =\n",
            "R[write to console]: =\n",
            "R[write to console]: =\n",
            "R[write to console]: =\n",
            "R[write to console]: =\n",
            "R[write to console]: =\n",
            "R[write to console]: =\n",
            "R[write to console]: =\n",
            "R[write to console]: =\n",
            "R[write to console]: =\n",
            "R[write to console]: =\n",
            "R[write to console]: \n",
            "\n",
            "R[write to console]: downloaded 1.1 MB\n",
            "\n",
            "\n",
            "R[write to console]: \n",
            "\n",
            "R[write to console]: \n",
            "R[write to console]: The downloaded source packages are in\n",
            "\t‘/tmp/RtmpReeMqu/downloaded_packages’\n",
            "R[write to console]: \n",
            "R[write to console]: \n",
            "\n",
            "R[write to console]: ── Attaching packages ─────────────────────────────────────── tidyverse 1.3.1 ──\n",
            "\n",
            "R[write to console]: ✔ ggplot2 3.3.5     ✔ purrr   0.3.4\n",
            "✔ tibble  3.1.3     ✔ dplyr   1.0.7\n",
            "✔ tidyr   1.1.3     ✔ stringr 1.4.0\n",
            "✔ readr   2.0.1     ✔ forcats 0.5.1\n",
            "\n",
            "R[write to console]: ── Conflicts ────────────────────────────────────────── tidyverse_conflicts() ──\n",
            "✖ dplyr::filter() masks stats::filter()\n",
            "✖ dplyr::lag()    masks stats::lag()\n",
            "\n",
            "R[write to console]: Loading required package: lattice\n",
            "\n",
            "R[write to console]: \n",
            "Attaching package: ‘caret’\n",
            "\n",
            "\n",
            "R[write to console]: The following object is masked from ‘package:purrr’:\n",
            "\n",
            "    lift\n",
            "\n",
            "\n"
          ],
          "name": "stderr"
        }
      ]
    },
    {
      "cell_type": "code",
      "metadata": {
        "colab": {
          "base_uri": "https://localhost:8080/"
        },
        "id": "yKQ4lZC6FFqE",
        "outputId": "057d936b-894e-4afe-8bb3-375b2ec5eef0"
      },
      "source": [
        "%%R \n",
        "# %%R <- Lenguaje de la línea de código: R\n",
        "#Datos de entrenamiento\n",
        "Faults_train <- read.table(\"Faults.train\")\n",
        "dim(Faults_train) #Se verifica que la información de entrenamiento se cargó adecuadamente. Las dimensiones del arreglo es de 1456 x 35\n",
        "head(Faults_train) #Se considerará la fila 1 como header de la tabla en la línea siguiente porque actualmente se tiene otra información. Este cambio nos permitirá visualizar los datos con las leyendas adecuadas.\n",
        "#Datos de prueba\n",
        "Faults_test <- read.table(\"Faults.test\")\n",
        "dim(Faults_test)  #Se verifica que la información de entrenamiento se cargó adecuadamente. Las dimensiones del arreglo es de 486 x 28\n",
        "head(Faults_test) #Se considerará la fila 1 como header de la tabla en la línea siguiente porque actualmente se tiene otra información. Este cambio nos permitirá visualizar los datos con las leyendas adecuadas."
      ],
      "execution_count": 5,
      "outputs": [
        {
          "output_type": "stream",
          "text": [
            "  V1        V2        V3        V4        V5           V6          V7\n",
            "1 NA X_Minimum X_Maximum Y_Minimum Y_Maximum Pixels_Areas X_Perimeter\n",
            "2  2       829       835   1553913   1553931           71           8\n",
            "3  4      1289      1306    498078    498335         2409          60\n",
            "4  6       413       446    138468    138883         9052         230\n",
            "5  9        74        90    779144    779308         1506          46\n",
            "6 12        46        58    179258    179312          480          15\n",
            "           V8                V9                   V10                   V11\n",
            "1 Y_Perimeter Sum_of_Luminosity Minimum_of_Luminosity Maximum_of_Luminosity\n",
            "2          19              7972                    99                   125\n",
            "3         260            246930                    37                   126\n",
            "4         432           1481991                    23                   199\n",
            "5         167            180215                    53                   143\n",
            "6          54             61966                   102                   158\n",
            "                 V12              V13              V14                   V15\n",
            "1 Length_of_Conveyer TypeOfSteel_A300 TypeOfSteel_A400 Steel_Plate_Thickness\n",
            "2               1623                1                0                   100\n",
            "3               1353                0                1                   185\n",
            "4               1687                0                1                   150\n",
            "5               1687                0                1                   150\n",
            "6               1687                0                1                   150\n",
            "          V16         V17          V18             V19           V20\n",
            "1 Edges_Index Empty_Index Square_Index Outside_X_Index Edges_X_Index\n",
            "2       0.971      0.3426       0.3333          0.0037          0.75\n",
            "3      0.0695      0.4486       0.0662          0.0126        0.2833\n",
            "4      0.4896       0.339       0.0795          0.0196        0.1435\n",
            "5      0.0877      0.4261       0.0976          0.0095        0.3478\n",
            "6      0.0545      0.2593       0.2222          0.0071           0.8\n",
            "            V21                  V22        V23         V24         V25\n",
            "1 Edges_Y_Index Outside_Global_Index LogOfAreas Log_X_Index Log_Y_Index\n",
            "2        0.9474                    1     1.8513      0.7782      1.2553\n",
            "3        0.9885                    1     3.3818      1.2305      2.4099\n",
            "4        0.9607                    1     3.9567      1.5185      2.6181\n",
            "5         0.982                    1     3.1778      1.2041      2.2148\n",
            "6             1                    1     2.6812      1.0792      1.7324\n",
            "                V26              V27            V28\n",
            "1 Orientation_Index Luminosity_Index SigmoidOfAreas\n",
            "2            0.6667          -0.1228          0.215\n",
            "3            0.9338          -0.1992              1\n",
            "4            0.9205           0.2791              1\n",
            "5            0.9024          -0.0651              1\n",
            "6            0.7778           0.0086         0.9093\n"
          ],
          "name": "stdout"
        }
      ]
    },
    {
      "cell_type": "code",
      "metadata": {
        "colab": {
          "base_uri": "https://localhost:8080/"
        },
        "id": "7T-ZLscHI6fT",
        "outputId": "5da5bd10-fa9a-47db-adc5-2877f1695751"
      },
      "source": [
        "%%R \n",
        "names(Faults_train) <- as.matrix(Faults_train[1, ]) #Se nombra los encabezados de cada columna de la tabla de entrenamiento con la etiqueta de la fila 1.\n",
        "Faults_train <- Faults_train[-1, ] #Se elimina la fila 1 de la tabla (pues corresponde a las etiquetas que ahora están en los encabezados).\n",
        "Faults_train <- Faults_train[,-1] #Se elimina la columna 1 de la tabla (pues corresponde al número de fila).\n",
        "Faults_train[] <- lapply(Faults_train, function(x) type.convert(as.character(x))) #Convierte las variables en caracteres.\n",
        "head(Faults_train) #Muesta las primeras filas de la tabla de entrenamiento.\n",
        "\n",
        "names(Faults_test) <- as.matrix(Faults_test[1, ])  #Se nombra los encabezados de cada columna de la tabla de entrenamiento con la etiqueta de la fila 1.\n",
        "Faults_test <- Faults_test[-1, ] #Se elimina la fila 1 de la tabla (pues corresponde a las etiquetas que ahora están en los encabezados).\n",
        "Faults_test <- Faults_test[,-1 ] #Se elimina la columna 1 de la tabla (pues corresponde al número de fila).\n",
        "Faults_test[] <- lapply(Faults_test, function(x) type.convert(as.character(x))) #Convierte las variables en caracteres.\n",
        "head(Faults_test)  #Muesta las primeras filas de la tabla de prueba."
      ],
      "execution_count": 6,
      "outputs": [
        {
          "output_type": "stream",
          "text": [
            "  X_Minimum X_Maximum Y_Minimum Y_Maximum Pixels_Areas X_Perimeter Y_Perimeter\n",
            "2       829       835   1553913   1553931           71           8          19\n",
            "3      1289      1306    498078    498335         2409          60         260\n",
            "4       413       446    138468    138883         9052         230         432\n",
            "5        74        90    779144    779308         1506          46         167\n",
            "6        46        58    179258    179312          480          15          54\n",
            "7        82        89    844704    844729          137           8          25\n",
            "  Sum_of_Luminosity Minimum_of_Luminosity Maximum_of_Luminosity\n",
            "2              7972                    99                   125\n",
            "3            246930                    37                   126\n",
            "4           1481991                    23                   199\n",
            "5            180215                    53                   143\n",
            "6             61966                   102                   158\n",
            "7             14907                    92                   126\n",
            "  Length_of_Conveyer TypeOfSteel_A300 TypeOfSteel_A400 Steel_Plate_Thickness\n",
            "2               1623                1                0                   100\n",
            "3               1353                0                1                   185\n",
            "4               1687                0                1                   150\n",
            "5               1687                0                1                   150\n",
            "6               1687                0                1                   150\n",
            "7               1687                0                1                   150\n",
            "  Edges_Index Empty_Index Square_Index Outside_X_Index Edges_X_Index\n",
            "2      0.9710      0.3426       0.3333          0.0037        0.7500\n",
            "3      0.0695      0.4486       0.0662          0.0126        0.2833\n",
            "4      0.4896      0.3390       0.0795          0.0196        0.1435\n",
            "5      0.0877      0.4261       0.0976          0.0095        0.3478\n",
            "6      0.0545      0.2593       0.2222          0.0071        0.8000\n",
            "7      0.0972      0.2171       0.2800          0.0041        0.8750\n",
            "  Edges_Y_Index Outside_Global_Index LogOfAreas Log_X_Index Log_Y_Index\n",
            "2        0.9474                    1     1.8513      0.7782      1.2553\n",
            "3        0.9885                    1     3.3818      1.2305      2.4099\n",
            "4        0.9607                    1     3.9567      1.5185      2.6181\n",
            "5        0.9820                    1     3.1778      1.2041      2.2148\n",
            "6        1.0000                    1     2.6812      1.0792      1.7324\n",
            "7        1.0000                    1     2.1367      0.8451      1.3979\n",
            "  Orientation_Index Luminosity_Index SigmoidOfAreas\n",
            "2            0.6667          -0.1228         0.2150\n",
            "3            0.9338          -0.1992         1.0000\n",
            "4            0.9205           0.2791         1.0000\n",
            "5            0.9024          -0.0651         1.0000\n",
            "6            0.7778           0.0086         0.9093\n",
            "7            0.7200          -0.1499         0.2998\n"
          ],
          "name": "stdout"
        }
      ]
    },
    {
      "cell_type": "code",
      "metadata": {
        "colab": {
          "base_uri": "https://localhost:8080/"
        },
        "id": "1T0t3M3aNwJJ",
        "outputId": "57a983b8-f242-4a56-b9ce-4102e4bb6ef0"
      },
      "source": [
        "%%R \n",
        "colnames(Faults_train) #Se muestra el nombre de las columnas de la tabla de entrenamiento."
      ],
      "execution_count": 7,
      "outputs": [
        {
          "output_type": "stream",
          "text": [
            " [1] \"X_Minimum\"             \"X_Maximum\"             \"Y_Minimum\"            \n",
            " [4] \"Y_Maximum\"             \"Pixels_Areas\"          \"X_Perimeter\"          \n",
            " [7] \"Y_Perimeter\"           \"Sum_of_Luminosity\"     \"Minimum_of_Luminosity\"\n",
            "[10] \"Maximum_of_Luminosity\" \"Length_of_Conveyer\"    \"TypeOfSteel_A300\"     \n",
            "[13] \"TypeOfSteel_A400\"      \"Steel_Plate_Thickness\" \"Edges_Index\"          \n",
            "[16] \"Empty_Index\"           \"Square_Index\"          \"Outside_X_Index\"      \n",
            "[19] \"Edges_X_Index\"         \"Edges_Y_Index\"         \"Outside_Global_Index\" \n",
            "[22] \"LogOfAreas\"            \"Log_X_Index\"           \"Log_Y_Index\"          \n",
            "[25] \"Orientation_Index\"     \"Luminosity_Index\"      \"SigmoidOfAreas\"       \n",
            "[28] \"Pastry\"                \"Z_Scratch\"             \"K_Scatch\"             \n",
            "[31] \"Stains\"                \"Dirtiness\"             \"Bumps\"                \n",
            "[34] \"Other_Faults\"         \n"
          ],
          "name": "stdout"
        }
      ]
    },
    {
      "cell_type": "code",
      "metadata": {
        "colab": {
          "base_uri": "https://localhost:8080/"
        },
        "id": "5PwswEoMUwXh",
        "outputId": "fdf4dd59-07f2-4bd0-ce0f-2e3c68999e74"
      },
      "source": [
        "%%R\n",
        "var_train <- as.data.frame.matrix(Faults_train[,-(28:34)]) #Adaptamos la tabla \"Variables de entrada\" como \"var_train\" \n",
        "class_train <- as.data.frame.matrix(Faults_train[,-(1:27)]) #Adaptamos la tabla de clases como \"class_train\"\n",
        "summary(class_train)"
      ],
      "execution_count": 8,
      "outputs": [
        {
          "output_type": "stream",
          "text": [
            "     Pastry         Z_Scratch          K_Scatch          Stains       \n",
            " Min.   :0.0000   Min.   :0.00000   Min.   :0.0000   Min.   :0.00000  \n",
            " 1st Qu.:0.0000   1st Qu.:0.00000   1st Qu.:0.0000   1st Qu.:0.00000  \n",
            " Median :0.0000   Median :0.00000   Median :0.0000   Median :0.00000  \n",
            " Mean   :0.0811   Mean   :0.09966   Mean   :0.2021   Mean   :0.03711  \n",
            " 3rd Qu.:0.0000   3rd Qu.:0.00000   3rd Qu.:0.0000   3rd Qu.:0.00000  \n",
            " Max.   :1.0000   Max.   :1.00000   Max.   :1.0000   Max.   :1.00000  \n",
            "   Dirtiness           Bumps         Other_Faults   \n",
            " Min.   :0.00000   Min.   :0.0000   Min.   :0.0000  \n",
            " 1st Qu.:0.00000   1st Qu.:0.0000   1st Qu.:0.0000  \n",
            " Median :0.00000   Median :0.0000   Median :0.0000  \n",
            " Mean   :0.02887   Mean   :0.2076   Mean   :0.3436  \n",
            " 3rd Qu.:0.00000   3rd Qu.:0.0000   3rd Qu.:1.0000  \n",
            " Max.   :1.00000   Max.   :1.0000   Max.   :1.0000  \n"
          ],
          "name": "stdout"
        }
      ]
    },
    {
      "cell_type": "code",
      "metadata": {
        "colab": {
          "base_uri": "https://localhost:8080/",
          "height": 497
        },
        "id": "xnq26EWxHPZi",
        "outputId": "e7c36163-a3de-46c0-a335-607c7755f603"
      },
      "source": [
        "%%R\n",
        "# Se grafica cada clase para mostrar el número de eventos con fallas detectadas en el experimento \n",
        "g0 <- ggplot(class_train, aes(y=Pastry)) + geom_bar() + labs(title = \"Presencia vs ausencia de falla\")  \n",
        "g1 <- ggplot(class_train, aes(y=Z_Scratch)) + geom_bar() + labs(title = \"Presencia vs ausencia de falla\") \n",
        "g2 <- ggplot(class_train, aes(y=K_Scatch)) + geom_bar() + labs(title = \"Presencia vs ausencia de falla\") \n",
        "g3 <- ggplot(class_train, aes(y=Stains)) + geom_bar() + labs(title = \"Presencia vs ausencia de falla\") \n",
        "g4 <- ggplot(class_train, aes(y=Dirtiness)) + geom_bar()+ labs(title = \"Presencia vs ausencia de falla\") \n",
        "g5 <- ggplot(class_train, aes(y=Bumps)) + geom_bar() + labs(title = \"Presencia vs ausencia de falla\") \n",
        "g6 <- ggplot(class_train, aes(y=Other_Faults)) + geom_bar()+ labs(title = \"Presencia vs ausencia de falla\") \n",
        "\n",
        "(g0 | g1) / (g2 |g3 )/(g4 | g5) /\n",
        "g6 #Exhibición y acomodo de gráficas"
      ],
      "execution_count": 9,
      "outputs": [
        {
          "output_type": "display_data",
          "data": {
            "image/png": "[encoded data removed]"
          },
          "metadata": {}
        }
      ]
    },
    {
      "cell_type": "code",
      "metadata": {
        "id": "wVhJz24MPPHK",
        "colab": {
          "base_uri": "https://localhost:8080/",
          "height": 497
        },
        "outputId": "30ddd0fe-602f-4b15-c4ea-6894fdfd0586"
      },
      "source": [
        "%%R\n",
        "# Se grafica de forma ordenada el número de eventos presentes en la muestra, por cada clase. \n",
        "df <- data.frame(class_train)\n",
        "df %>%\n",
        "    gather(season,count) %>%\n",
        "    filter(count > 0) %>%\n",
        "    ggplot(aes(forcats::fct_infreq(season))) +\n",
        "        geom_bar() + coord_flip() + labs(title = \"Ocurrencia de eventos\", x = \"Tipo de falla\", y = \"Número de fallas\")"
      ],
      "execution_count": 10,
      "outputs": [
        {
          "output_type": "display_data",
          "data": {
            "image/png": "[encoded data removed]"
          },
          "metadata": {}
        }
      ]
    },
    {
      "cell_type": "code",
      "metadata": {
        "colab": {
          "base_uri": "https://localhost:8080/"
        },
        "id": "u8I7klLmmnx2",
        "outputId": "fd22c8da-3353-4dad-a28b-5eae27941c3e"
      },
      "source": [
        "%%R\n",
        "# Impresión del nombres de las variables\n",
        "names(Faults_test)"
      ],
      "execution_count": 11,
      "outputs": [
        {
          "output_type": "stream",
          "text": [
            " [1] \"X_Minimum\"             \"X_Maximum\"             \"Y_Minimum\"            \n",
            " [4] \"Y_Maximum\"             \"Pixels_Areas\"          \"X_Perimeter\"          \n",
            " [7] \"Y_Perimeter\"           \"Sum_of_Luminosity\"     \"Minimum_of_Luminosity\"\n",
            "[10] \"Maximum_of_Luminosity\" \"Length_of_Conveyer\"    \"TypeOfSteel_A300\"     \n",
            "[13] \"TypeOfSteel_A400\"      \"Steel_Plate_Thickness\" \"Edges_Index\"          \n",
            "[16] \"Empty_Index\"           \"Square_Index\"          \"Outside_X_Index\"      \n",
            "[19] \"Edges_X_Index\"         \"Edges_Y_Index\"         \"Outside_Global_Index\" \n",
            "[22] \"LogOfAreas\"            \"Log_X_Index\"           \"Log_Y_Index\"          \n",
            "[25] \"Orientation_Index\"     \"Luminosity_Index\"      \"SigmoidOfAreas\"       \n"
          ],
          "name": "stdout"
        }
      ]
    },
    {
      "cell_type": "code",
      "metadata": {
        "colab": {
          "base_uri": "https://localhost:8080/",
          "height": 497
        },
        "id": "moRh48oWodcl",
        "outputId": "d051a65a-73f5-4486-ad91-1689e9a6890f"
      },
      "source": [
        "%%R\n",
        "#Histograma\n",
        "#En las siguientes líneas de código, se grafican los histogramas de las variables para identificar oportunidades de mejora en el preprocesamiento de los datos.\n",
        "q1 <-  ggplot(Faults_train, aes(X_Maximum)) +\n",
        "  geom_histogram(binwidth = 100)\n",
        "q2 <-  ggplot(Faults_train, aes(Y_Minimum)) +\n",
        "  geom_histogram(binwidth = 100000)\n",
        "q3 <-  ggplot(Faults_train, aes(Y_Maximum)) +\n",
        "  geom_histogram(binwidth = 100000)\n",
        "\n",
        "q1 / q2 / q3"
      ],
      "execution_count": 12,
      "outputs": [
        {
          "output_type": "display_data",
          "data": {
            "image/png": "[encoded data removed]"
          },
          "metadata": {}
        }
      ]
    },
    {
      "cell_type": "code",
      "metadata": {
        "colab": {
          "base_uri": "https://localhost:8080/",
          "height": 497
        },
        "id": "vYH_FP6ishPT",
        "outputId": "c33dca1d-89cb-4c7c-b1c9-e541823d9ea4"
      },
      "source": [
        "%%R\n",
        "q4 <- ggplot(Faults_train, aes(Pixels_Areas)) +\n",
        "  geom_histogram(binwidth = 10000)\n",
        "q4"
      ],
      "execution_count": 13,
      "outputs": [
        {
          "output_type": "display_data",
          "data": {
            "image/png": "[encoded data removed]"
          },
          "metadata": {}
        }
      ]
    },
    {
      "cell_type": "code",
      "metadata": {
        "colab": {
          "base_uri": "https://localhost:8080/",
          "height": 497
        },
        "id": "OdyNkeQ2tg2d",
        "outputId": "2fbf530f-b9cd-4752-957a-dba3e9c03e38"
      },
      "source": [
        "%%R\n",
        "q5 <- ggplot(Faults_train, aes(X_Perimeter)) +\n",
        "  geom_histogram(binwidth = 150)\n",
        "q6 <- ggplot(Faults_train, aes(Y_Perimeter)) +\n",
        "  geom_histogram(binwidth = 150)\n",
        "q5 / q6"
      ],
      "execution_count": 14,
      "outputs": [
        {
          "output_type": "display_data",
          "data": {
            "image/png": "[encoded data removed]"
          },
          "metadata": {}
        }
      ]
    },
    {
      "cell_type": "code",
      "metadata": {
        "colab": {
          "base_uri": "https://localhost:8080/",
          "height": 497
        },
        "id": "p_zBlzretlCE",
        "outputId": "3d168d2b-820c-45bd-b12c-c5ebe3eda183"
      },
      "source": [
        "%%R\n",
        "q7 <- ggplot(Faults_train, aes(Sum_of_Luminosity)) +\n",
        "  geom_histogram(binwidth = 100000)\n",
        "q8 <- ggplot(Faults_train, aes(Minimum_of_Luminosity)) +\n",
        "  geom_histogram(binwidth = 10)\n",
        "q9 <- ggplot(Faults_train, aes(Maximum_of_Luminosity)) +\n",
        "  geom_histogram(binwidth = 10)\n",
        "q7/q8/q9"
      ],
      "execution_count": 15,
      "outputs": [
        {
          "output_type": "display_data",
          "data": {
            "image/png": "[encoded data removed]"
          },
          "metadata": {}
        }
      ]
    },
    {
      "cell_type": "code",
      "metadata": {
        "colab": {
          "base_uri": "https://localhost:8080/",
          "height": 497
        },
        "id": "48dODCTVtnQ8",
        "outputId": "befe8f72-fe93-47f1-f27a-17eb73f0f0d7"
      },
      "source": [
        "%%R\n",
        "q10 <- ggplot(Faults_train, aes(Length_of_Conveyer)) +\n",
        "  geom_histogram(binwidth = 10)\n",
        "q10"
      ],
      "execution_count": 16,
      "outputs": [
        {
          "output_type": "display_data",
          "data": {
            "image/png": "[encoded data removed]"
          },
          "metadata": {}
        }
      ]
    },
    {
      "cell_type": "code",
      "metadata": {
        "colab": {
          "base_uri": "https://localhost:8080/",
          "height": 532
        },
        "id": "_4uvHRLLtpbu",
        "outputId": "67e71c01-b472-4b2a-a395-ba766da45988"
      },
      "source": [
        "%%R\n",
        "q11 <- ggplot(Faults_train, aes(Steel_Plate_Thickness)) +\n",
        "  geom_histogram()\n",
        "q11"
      ],
      "execution_count": 17,
      "outputs": [
        {
          "output_type": "stream",
          "text": [
            "R[write to console]: `stat_bin()` using `bins = 30`. Pick better value with `binwidth`.\n",
            "\n"
          ],
          "name": "stderr"
        },
        {
          "output_type": "display_data",
          "data": {
            "image/png": "[encoded data removed]"
          },
          "metadata": {}
        }
      ]
    },
    {
      "cell_type": "code",
      "metadata": {
        "colab": {
          "base_uri": "https://localhost:8080/",
          "height": 497
        },
        "id": "PxI64RnxtrZi",
        "outputId": "432202a2-3933-4b59-aa73-acb901276f9f"
      },
      "source": [
        "%%R\n",
        "q12 <- ggplot(Faults_train, aes(Edges_Index)) +\n",
        "  geom_histogram(binwidth = 0.05)\n",
        "q13 <- ggplot(Faults_train, aes(Empty_Index)) +\n",
        "  geom_histogram(binwidth = 0.05)\n",
        "q14 <- ggplot(Faults_train, aes(Square_Index)) +\n",
        "  geom_histogram(binwidth = 0.05)\n",
        "q12/q13/q14"
      ],
      "execution_count": 18,
      "outputs": [
        {
          "output_type": "display_data",
          "data": {
            "image/png": "[encoded data removed]"
          },
          "metadata": {}
        }
      ]
    },
    {
      "cell_type": "code",
      "metadata": {
        "colab": {
          "base_uri": "https://localhost:8080/",
          "height": 497
        },
        "id": "fSN8gjMattvv",
        "outputId": "cad01888-bb1f-4bfc-a4e8-7df108169e51"
      },
      "source": [
        "%%R\n",
        "q15 <- ggplot(Faults_train, aes(Outside_X_Index)) +\n",
        "  geom_histogram(binwidth = 0.025)\n",
        "q16 <- ggplot(Faults_train, aes(Edges_X_Index)) +\n",
        "  geom_histogram(binwidth = 0.05)\n",
        "q17 <- ggplot(Faults_train, aes(Edges_Y_Index)) +\n",
        "  geom_histogram(binwidth = 0.05)\n",
        "q15/q16/q17"
      ],
      "execution_count": 19,
      "outputs": [
        {
          "output_type": "display_data",
          "data": {
            "image/png": "[encoded data removed]"
          },
          "metadata": {}
        }
      ]
    },
    {
      "cell_type": "code",
      "metadata": {
        "colab": {
          "base_uri": "https://localhost:8080/",
          "height": 497
        },
        "id": "TV_rFN2Ltvgg",
        "outputId": "b40faf70-afd1-457f-d530-e972a5c2ec8f"
      },
      "source": [
        "%%R\n",
        "q18 <- ggplot(Faults_train, aes(LogOfAreas)) +\n",
        "  geom_histogram(binwidth = 0.5)\n",
        "q19 <- ggplot(Faults_train, aes(Log_X_Index)) +\n",
        "  geom_histogram(binwidth = 0.5)\n",
        "q20 <- ggplot(Faults_train, aes(Log_Y_Index)) +\n",
        "  geom_histogram(binwidth = .1)\n",
        "q18/q19/q20"
      ],
      "execution_count": 20,
      "outputs": [
        {
          "output_type": "display_data",
          "data": {
            "image/png": "[encoded data removed]"
          },
          "metadata": {}
        }
      ]
    },
    {
      "cell_type": "code",
      "metadata": {
        "colab": {
          "base_uri": "https://localhost:8080/",
          "height": 497
        },
        "id": "OGLACa_itxIB",
        "outputId": "e9a0fe26-ea41-4a8e-b656-239ef0555411"
      },
      "source": [
        "%%R\n",
        "q21 <- ggplot(Faults_train, aes(Orientation_Index)) +\n",
        "  geom_histogram(binwidth = 0.1)\n",
        "q22 <- ggplot(Faults_train, aes(Luminosity_Index)) +\n",
        "  geom_histogram(binwidth = 0.1)\n",
        "q23 <- ggplot(Faults_train, aes(SigmoidOfAreas)) +\n",
        "  geom_histogram(binwidth = 0.05)\n",
        "q21/q22/q23"
      ],
      "execution_count": 21,
      "outputs": [
        {
          "output_type": "display_data",
          "data": {
            "image/png": "[encoded data removed]"
          },
          "metadata": {}
        }
      ]
    },
    {
      "cell_type": "code",
      "metadata": {
        "colab": {
          "base_uri": "https://localhost:8080/",
          "height": 497
        },
        "id": "PpPEyR39ty_T",
        "outputId": "64706ffe-4dab-4bb2-8f2f-e8dc7d4f6f02"
      },
      "source": [
        "%%R\n",
        "q24 <- ggplot(Faults_train, aes(TypeOfSteel_A300)) +\n",
        "  geom_histogram(binwidth = 0.5)\n",
        "q25 <- ggplot(Faults_train, aes(TypeOfSteel_A400)) +\n",
        "  geom_histogram(binwidth = 0.5)\n",
        "q26 <- ggplot(Faults_train, aes(Outside_Global_Index)) +\n",
        "  geom_histogram(binwidth = 0.1)\n",
        "q24/q25/q26"
      ],
      "execution_count": 22,
      "outputs": [
        {
          "output_type": "display_data",
          "data": {
            "image/png": "[encoded data removed]"
          },
          "metadata": {}
        }
      ]
    },
    {
      "cell_type": "markdown",
      "metadata": {
        "id": "9dyoS8UCc0SN"
      },
      "source": [
        "## Preparando los datos"
      ]
    },
    {
      "cell_type": "code",
      "metadata": {
        "colab": {
          "base_uri": "https://localhost:8080/"
        },
        "id": "dOsCaq5-9qBq",
        "outputId": "4a243708-deaf-4f1e-b871-4f5aaecf69ef"
      },
      "source": [
        "%%R\n",
        "#Debido a que se mostró una amplia variación en las escalas de las variables, escalaremos los valores y revisaremos el resultado resumido \n",
        "skimmed <- skim_to_wide(var_train)\n",
        "skimmed"
      ],
      "execution_count": 23,
      "outputs": [
        {
          "output_type": "stream",
          "text": [
            "── Data Summary ────────────────────────\n",
            "                           Values\n",
            "Name                       .data \n",
            "Number of rows             1455  \n",
            "Number of columns          27    \n",
            "_______________________          \n",
            "Column type frequency:           \n",
            "  numeric                  27    \n",
            "________________________         \n",
            "Group variables            None  \n",
            "\n",
            "── Variable type: numeric ──────────────────────────────────────────────────────\n",
            "   skim_variable         n_missing complete_rate         mean           sd\n",
            " 1 X_Minimum                     0             1     570.         517.    \n",
            " 2 X_Maximum                     0             1     616.         494.    \n",
            " 3 Y_Minimum                     0             1 1676894.     1826262.    \n",
            " 4 Y_Maximum                     0             1 1676950.     1826278.    \n",
            " 5 Pixels_Areas                  0             1    1908.        5541.    \n",
            " 6 X_Perimeter                   0             1     114.         331.    \n",
            " 7 Y_Perimeter                   0             1      85.9        488.    \n",
            " 8 Sum_of_Luminosity             0             1  206955.      533320.    \n",
            " 9 Minimum_of_Luminosity         0             1      84.7         32.4   \n",
            "10 Maximum_of_Luminosity         0             1     130.          18.5   \n",
            "11 Length_of_Conveyer            0             1    1458.         144.    \n",
            "12 TypeOfSteel_A300              0             1       0.402        0.490 \n",
            "13 TypeOfSteel_A400              0             1       0.598        0.490 \n",
            "14 Steel_Plate_Thickness         0             1      78.1         54.3   \n",
            "15 Edges_Index                   0             1       0.336        0.300 \n",
            "16 Empty_Index                   0             1       0.414        0.136 \n",
            "17 Square_Index                  0             1       0.573        0.272 \n",
            "18 Outside_X_Index               0             1       0.0330       0.0593\n",
            "19 Edges_X_Index                 0             1       0.609        0.245 \n",
            "20 Edges_Y_Index                 0             1       0.814        0.234 \n",
            "21 Outside_Global_Index          0             1       0.580        0.482 \n",
            "22 LogOfAreas                    0             1       2.49         0.790 \n",
            "23 Log_X_Index                   0             1       1.33         0.480 \n",
            "24 Log_Y_Index                   0             1       1.40         0.456 \n",
            "25 Orientation_Index             0             1       0.0879       0.499 \n",
            "26 Luminosity_Index              0             1      -0.131        0.152 \n",
            "27 SigmoidOfAreas                0             1       0.582        0.341 \n",
            "          p0         p25          p50          p75         p100 hist \n",
            " 1    0          56          435         1046.         1705     ▇▂▂▃▁\n",
            " 2    4         194          466         1070          1713     ▇▂▂▃▂\n",
            " 3 6712      502694      1223690      2183653      12987661     ▇▂▁▁▁\n",
            " 4 6724      502804.     1223696      2183658      12987692     ▇▂▁▁▁\n",
            " 5    2          82.5        172          794        152655     ▇▁▁▁▁\n",
            " 6    2          15           26           82.5       10449     ▇▁▁▁▁\n",
            " 7    1          13           25           83         18152     ▇▁▁▁▁\n",
            " 8  250        9374        18986        81660.     11591414     ▇▁▁▁▁\n",
            " 9    0          63           90          106           203     ▂▃▇▁▁\n",
            "10   37         124          127          140           247     ▁▂▇▁▁\n",
            "11 1227        1358         1364         1650          1715     ▁▇▁▁▃\n",
            "12    0           0            0            1             1     ▇▁▁▁▆\n",
            "13    0           0            1            1             1     ▆▁▁▁▇\n",
            "14   40          40           70           80           300     ▇▁▁▁▁\n",
            "15    0           0.0604       0.232        0.584         0.995 ▇▃▂▂▂\n",
            "16    0           0.315        0.414        0.5           0.944 ▁▆▇▂▁\n",
            "17    0.0083      0.36         0.556        0.833         1     ▃▇▆▅▇\n",
            "18    0.0015      0.0066       0.01         0.0228        0.876 ▇▁▁▁▁\n",
            "19    0.0144      0.411        0.636        0.8           1     ▂▅▅▇▆\n",
            "20    0.105       0.598        0.95         1             1     ▁▂▂▁▇\n",
            "21    0           0            1            1             1     ▆▁▁▁▇\n",
            "22    0.301       1.92         2.24         2.90          5.18  ▁▇▅▃▁\n",
            "23    0.301       1            1.15         1.51          3.07  ▁▇▂▂▁\n",
            "24    0           1.08         1.32         1.74          4.26  ▁▇▃▁▁\n",
            "25   -0.974      -0.295        0.0988       0.507         0.992 ▅▅▇▆▆\n",
            "26   -0.999      -0.195       -0.133       -0.0661        0.642 ▁▁▇▁▁\n",
            "27    0.119       0.243        0.496        1.00          1     ▇▃▂▂▇\n"
          ],
          "name": "stdout"
        }
      ]
    },
    {
      "cell_type": "code",
      "metadata": {
        "colab": {
          "base_uri": "https://localhost:8080/"
        },
        "id": "GJYVHwHN-abp",
        "outputId": "d6cef3cf-2c2f-465e-a712-187001a35744"
      },
      "source": [
        "%%R\n",
        "#Nuestras variables escaladas nos ayudarán a que el modelo sea más exacto.\n",
        "scale <- preProcess(var_train, method='scale')\n",
        "scaled_var_train <- predict(scale, newdata = var_train)\n",
        "skimmed_transformed <- skim_to_wide(scaled_var_train)\n",
        "skimmed_transformed"
      ],
      "execution_count": 24,
      "outputs": [
        {
          "output_type": "stream",
          "text": [
            "── Data Summary ────────────────────────\n",
            "                           Values\n",
            "Name                       .data \n",
            "Number of rows             1455  \n",
            "Number of columns          27    \n",
            "_______________________          \n",
            "Column type frequency:           \n",
            "  numeric                  27    \n",
            "________________________         \n",
            "Group variables            None  \n",
            "\n",
            "── Variable type: numeric ──────────────────────────────────────────────────────\n",
            "   skim_variable         n_missing complete_rate   mean    sd        p0     p25\n",
            " 1 X_Minimum                     0             1  1.10      1  0         0.108 \n",
            " 2 X_Maximum                     0             1  1.25      1  0.00810   0.393 \n",
            " 3 Y_Minimum                     0             1  0.918     1  0.00368   0.275 \n",
            " 4 Y_Maximum                     0             1  0.918     1  0.00368   0.275 \n",
            " 5 Pixels_Areas                  0             1  0.344     1  0.000361  0.0149\n",
            " 6 X_Perimeter                   0             1  0.343     1  0.00604   0.0453\n",
            " 7 Y_Perimeter                   0             1  0.176     1  0.00205   0.0266\n",
            " 8 Sum_of_Luminosity             0             1  0.388     1  0.000469  0.0176\n",
            " 9 Minimum_of_Luminosity         0             1  2.61      1  0         1.95  \n",
            "10 Maximum_of_Luminosity         0             1  7.04      1  2.00      6.72  \n",
            "11 Length_of_Conveyer            0             1 10.2       1  8.54      9.46  \n",
            "12 TypeOfSteel_A300              0             1  0.820     1  0         0     \n",
            "13 TypeOfSteel_A400              0             1  1.22      1  0         0     \n",
            "14 Steel_Plate_Thickness         0             1  1.44      1  0.737     0.737 \n",
            "15 Edges_Index                   0             1  1.12      1  0         0.201 \n",
            "16 Empty_Index                   0             1  3.03      1  0         2.31  \n",
            "17 Square_Index                  0             1  2.11      1  0.0305    1.32  \n",
            "18 Outside_X_Index               0             1  0.556     1  0.0253    0.111 \n",
            "19 Edges_X_Index                 0             1  2.49      1  0.0589    1.68  \n",
            "20 Edges_Y_Index                 0             1  3.47      1  0.448     2.55  \n",
            "21 Outside_Global_Index          0             1  1.20      1  0         0     \n",
            "22 LogOfAreas                    0             1  3.15      1  0.381     2.43  \n",
            "23 Log_X_Index                   0             1  2.77      1  0.627     2.08  \n",
            "24 Log_Y_Index                   0             1  3.07      1  0         2.37  \n",
            "25 Orientation_Index             0             1  0.176     1 -1.95     -0.592 \n",
            "26 Luminosity_Index              0             1 -0.862     1 -6.58     -1.28  \n",
            "27 SigmoidOfAreas                0             1  1.71      1  0.349     0.714 \n",
            "       p50    p75  p100 hist \n",
            " 1  0.842   2.03   3.30 ▇▂▂▃▁\n",
            " 2  0.944   2.17   3.47 ▇▂▂▃▂\n",
            " 3  0.670   1.20   7.11 ▇▂▁▁▁\n",
            " 4  0.670   1.20   7.11 ▇▂▁▁▁\n",
            " 5  0.0310  0.143 27.6  ▇▁▁▁▁\n",
            " 6  0.0785  0.249 31.5  ▇▁▁▁▁\n",
            " 7  0.0512  0.170 37.2  ▇▁▁▁▁\n",
            " 8  0.0356  0.153 21.7  ▇▁▁▁▁\n",
            " 9  2.78    3.27   6.27 ▂▃▇▁▁\n",
            "10  6.88    7.58  13.4  ▁▂▇▁▁\n",
            "11  9.50   11.5   11.9  ▁▇▁▁▃\n",
            "12  0       2.04   2.04 ▇▁▁▁▆\n",
            "13  2.04    2.04   2.04 ▆▁▁▁▇\n",
            "14  1.29    1.47   5.53 ▇▁▁▁▁\n",
            "15  0.774   1.95   3.32 ▇▃▂▂▂\n",
            "16  3.03    3.67   6.92 ▁▆▇▂▁\n",
            "17  2.04    3.06   3.68 ▃▇▆▅▇\n",
            "18  0.169   0.384 14.8  ▇▁▁▁▁\n",
            "19  2.60    3.27   4.09 ▂▅▅▇▆\n",
            "20  4.05    4.27   4.27 ▁▂▂▁▇\n",
            "21  2.08    2.08   2.08 ▆▁▁▁▇\n",
            "22  2.83    3.67   6.56 ▁▇▅▃▁\n",
            "23  2.39    3.13   6.40 ▁▇▂▂▁\n",
            "24  2.90    3.81   9.33 ▁▇▃▁▁\n",
            "25  0.198   1.02   1.99 ▅▅▇▆▆\n",
            "26 -0.874  -0.435  4.23 ▁▁▇▁▁\n",
            "27  1.46    2.94   2.94 ▇▃▂▂▇\n"
          ],
          "name": "stdout"
        }
      ]
    },
    {
      "cell_type": "code",
      "metadata": {
        "colab": {
          "base_uri": "https://localhost:8080/"
        },
        "id": "3l9UcpsADVF9",
        "outputId": "3783012c-0aaa-4165-ceef-36a3177526c9"
      },
      "source": [
        "%%R\n",
        "train_db <- as.data.frame.matrix(Faults_train) \n",
        "train_db <- train_db %>% add_column(Fault = 0)\n",
        "train_db$Fault[which(train_db$Pastry == 1)] = \"Pastry\"\n",
        "train_db$Fault[which(train_db$Z_Scratch == 1)] = \"Z_Scratch\"\n",
        "train_db$Fault[which(train_db$K_Scatch == 1)] = \"K_Scatch\"\n",
        "train_db$Fault[which(train_db$Stains == 1)] = \"Stains\"\n",
        "train_db$Fault[which(train_db$Dirtiness == 1)] = \"Dirtiness\"\n",
        "train_db$Fault[which(train_db$Bumps == 1)] = \"Bumps\"\n",
        "train_db$Fault[which(train_db$Other_Faults == 1)] = \"Other\"\n",
        "\n",
        "head(train_db)"
      ],
      "execution_count": 25,
      "outputs": [
        {
          "output_type": "stream",
          "text": [
            "  X_Minimum X_Maximum Y_Minimum Y_Maximum Pixels_Areas X_Perimeter Y_Perimeter\n",
            "2      1343      1351     46714     46725           56          11          11\n",
            "3       354       370    409908    409918          116          19          10\n",
            "4      1056      1077   4364066   4364076          106          35          22\n",
            "5       816       822    899659    899665           18           8           6\n",
            "6        78        94   1523381   1523431          463          69          54\n",
            "7       618       650   2017425   2017438          103          51          20\n",
            "  Sum_of_Luminosity Minimum_of_Luminosity Maximum_of_Luminosity\n",
            "2              5729                    90                   117\n",
            "3             12174                    82                   126\n",
            "4             10747                    89                   116\n",
            "5              2384                   127                   141\n",
            "6             60518                   118                   141\n",
            "7             13657                   124                   141\n",
            "  Length_of_Conveyer TypeOfSteel_A300 TypeOfSteel_A400 Steel_Plate_Thickness\n",
            "2               1362                1                0                    70\n",
            "3               1360                0                1                    40\n",
            "4               1362                1                0                    80\n",
            "5               1358                0                1                    50\n",
            "6               1360                0                1                   130\n",
            "7               1358                0                1                    40\n",
            "  Edges_Index Empty_Index Square_Index Outside_X_Index Edges_X_Index\n",
            "2      0.0161      0.3636       0.7273          0.0059        0.7273\n",
            "3      0.5206      0.2750       0.6250          0.0118        0.8421\n",
            "4      0.4185      0.4952       0.4762          0.0154        0.6000\n",
            "5      0.7894      0.5000       1.0000          0.0044        0.7500\n",
            "6      0.1147      0.4212       0.3200          0.0118        0.2319\n",
            "7      0.9102      0.7524       0.4063          0.0236        0.6274\n",
            "  Edges_Y_Index Outside_Global_Index LogOfAreas Log_X_Index Log_Y_Index\n",
            "2        1.0000                  1.0     1.7482      0.9031      1.0414\n",
            "3        1.0000                  0.0     2.0645      1.2041      1.0000\n",
            "4        0.4545                  0.0     2.0253      1.3222      1.0000\n",
            "5        1.0000                  0.5     1.2553      0.7782      0.7782\n",
            "6        0.9259                  1.0     2.6656      1.2041      1.6990\n",
            "7        0.6500                  0.0     2.0128      1.5051      1.1139\n",
            "  Orientation_Index Luminosity_Index SigmoidOfAreas Pastry Z_Scratch K_Scatch\n",
            "2            0.2727          -0.2007         0.1934      0         0        0\n",
            "3           -0.3750          -0.1801         0.2792      0         0        0\n",
            "4           -0.5238          -0.2079         0.3509      0         0        0\n",
            "5            0.0000           0.0347         0.1449      0         0        0\n",
            "6            0.6800           0.0212         0.9650      0         0        0\n",
            "7           -0.5938           0.0359         0.6810      0         0        0\n",
            "  Stains Dirtiness Bumps Other_Faults  Fault\n",
            "2      0         0     0            1  Other\n",
            "3      0         0     1            0  Bumps\n",
            "4      0         0     1            0  Bumps\n",
            "5      1         0     0            0 Stains\n",
            "6      0         0     0            1  Other\n",
            "7      0         0     0            1  Other\n"
          ],
          "name": "stdout"
        }
      ]
    },
    {
      "cell_type": "code",
      "metadata": {
        "colab": {
          "base_uri": "https://localhost:8080/"
        },
        "id": "yDddvTpA-afH",
        "outputId": "a6789128-373f-42c3-9e48-0209af64d5d6"
      },
      "source": [
        "%%R\n",
        "#Prepara los datos\n",
        "\n",
        "library(recipes)\n",
        "\n",
        "receta <- train_db %>% \n",
        "recipe(Fault ~ .) %>% #Definimos \"Fault\" como nuestra variable dependiente\n",
        "step_rm(Pastry, Z_Scratch, K_Scatch, Stains, Dirtiness, Bumps, Other_Faults) %>% #Elimina las columnas de las variables independientes, pues la información que ocuparemos está en la variable \"Fault\".\n",
        "step_dummy(all_nominal(), -all_outcomes()) %>% #Para variables categóricas independientes, únicamente.\n",
        "step_scale(all_predictors(), -all_outcomes()) %>% #Escala las variables de entrada como en el ejemplo anterior, visualizado con skimr. Sólamente funciona para las variables independientes.\n",
        "prep()\n",
        "\n",
        "save(receta, file = \"receta.RData\") #Guarda la receta \n",
        "\n",
        "variables <- summary(receta) #Muestra el tipo de variable, rol y origen en la receta\n",
        "variables[20:28,] #Selecciona las filas a mostrar\n",
        "#Puede notar que nuestro groundtruth es la variable \"Fault\" y las demás variables independientes. \n",
        "#Los datos en este punto, ya se encuentran ordenados y listos para ser utilizados en el modelo."
      ],
      "execution_count": 26,
      "outputs": [
        {
          "output_type": "stream",
          "text": [
            "R[write to console]: \n",
            "Attaching package: ‘recipes’\n",
            "\n",
            "\n",
            "R[write to console]: The following object is masked from ‘package:stringr’:\n",
            "\n",
            "    fixed\n",
            "\n",
            "\n",
            "R[write to console]: The following object is masked from ‘package:stats’:\n",
            "\n",
            "    step\n",
            "\n",
            "\n"
          ],
          "name": "stderr"
        },
        {
          "output_type": "stream",
          "text": [
            "# A tibble: 9 × 4\n",
            "  variable             type    role      source  \n",
            "  <chr>                <chr>   <chr>     <chr>   \n",
            "1 Edges_Y_Index        numeric predictor original\n",
            "2 Outside_Global_Index numeric predictor original\n",
            "3 LogOfAreas           numeric predictor original\n",
            "4 Log_X_Index          numeric predictor original\n",
            "5 Log_Y_Index          numeric predictor original\n",
            "6 Orientation_Index    numeric predictor original\n",
            "7 Luminosity_Index     numeric predictor original\n",
            "8 SigmoidOfAreas       numeric predictor original\n",
            "9 Fault                nominal outcome   original\n"
          ],
          "name": "stdout"
        }
      ]
    },
    {
      "cell_type": "code",
      "metadata": {
        "id": "LTo3CkRIaHIS"
      },
      "source": [
        "%%R\n",
        "#Se extrae la muestra de entrenamiento de la receta\n",
        "x_train_db <- receta %>%\n",
        "juice(all_predictors(),\n",
        "composition = \"matrix\")\n",
        "y_train_db <- receta %>%\n",
        "juice(all_outcomes()) %>%\n",
        "pull()"
      ],
      "execution_count": 27,
      "outputs": []
    },
    {
      "cell_type": "code",
      "metadata": {
        "colab": {
          "base_uri": "https://localhost:8080/"
        },
        "id": "5QHu6sHGbiSJ",
        "outputId": "a8f3c1f5-d064-4664-9f00-dbb0506eb977"
      },
      "source": [
        "%%R\n",
        "summary(Faults_test)"
      ],
      "execution_count": 28,
      "outputs": [
        {
          "output_type": "stream",
          "text": [
            "   X_Minimum        X_Maximum        Y_Minimum          Y_Maximum       \n",
            " Min.   :   0.0   Min.   :   8.0   Min.   :    7851   Min.   :    7865  \n",
            " 1st Qu.:  49.0   1st Qu.: 190.0   1st Qu.:  407114   1st Qu.:  407124  \n",
            " Median : 445.0   Median : 478.0   Median : 1116225   Median : 1116232  \n",
            " Mean   : 575.5   Mean   : 624.1   Mean   : 1574903   Mean   : 1574949  \n",
            " 3rd Qu.:1061.0   3rd Qu.:1080.0   3rd Qu.: 2183073   3rd Qu.: 2183084  \n",
            " Max.   :1687.0   Max.   :1696.0   Max.   :10440356   Max.   :10440367  \n",
            "  Pixels_Areas    X_Perimeter      Y_Perimeter    Sum_of_Luminosity\n",
            " Min.   :    9   Min.   :   4.0   Min.   :  2.0   Min.   :   1063  \n",
            " 1st Qu.:   89   1st Qu.:  15.0   1st Qu.: 14.0   1st Qu.:  10329  \n",
            " Median :  175   Median :  28.0   Median : 25.0   Median :  19650  \n",
            " Mean   : 1855   Mean   : 106.7   Mean   : 74.2   Mean   : 204758  \n",
            " 3rd Qu.:  935   3rd Qu.:  90.0   3rd Qu.: 89.0   3rd Qu.:  95390  \n",
            " Max.   :25323   Max.   :1084.0   Max.   :680.0   Max.   :3037459  \n",
            " Minimum_of_Luminosity Maximum_of_Luminosity Length_of_Conveyer\n",
            " Min.   : 16.00        Min.   : 71.0         Min.   :1227      \n",
            " 1st Qu.: 63.00        1st Qu.:124.0         1st Qu.:1358      \n",
            " Median : 90.00        Median :127.0         Median :1364      \n",
            " Mean   : 84.23        Mean   :130.8         Mean   :1463      \n",
            " 3rd Qu.:106.00        3rd Qu.:140.0         3rd Qu.:1652      \n",
            " Max.   :195.00        Max.   :253.0         Max.   :1794      \n",
            " TypeOfSteel_A300 TypeOfSteel_A400 Steel_Plate_Thickness  Edges_Index    \n",
            " Min.   :0.0000   Min.   :0.0000   Min.   : 40.00        Min.   :0.0000  \n",
            " 1st Qu.:0.0000   1st Qu.:0.0000   1st Qu.: 40.00        1st Qu.:0.0604  \n",
            " Median :0.0000   Median :1.0000   Median : 70.00        Median :0.2121  \n",
            " Mean   :0.3938   Mean   :0.6062   Mean   : 80.72        Mean   :0.3200  \n",
            " 3rd Qu.:1.0000   3rd Qu.:1.0000   3rd Qu.: 80.00        3rd Qu.:0.5337  \n",
            " Max.   :1.0000   Max.   :1.0000   Max.   :300.00        Max.   :0.9905  \n",
            "  Empty_Index      Square_Index    Outside_X_Index   Edges_X_Index   \n",
            " Min.   :0.0368   Min.   :0.0090   Min.   :0.00240   Min.   :0.0645  \n",
            " 1st Qu.:0.3200   1st Qu.:0.3659   1st Qu.:0.00660   1st Qu.:0.4118  \n",
            " Median :0.4044   Median :0.5625   Median :0.01030   Median :0.6413  \n",
            " Mean   :0.4160   Mean   :0.5646   Mean   :0.03459   Mean   :0.6149  \n",
            " 3rd Qu.:0.5221   3rd Qu.:0.8000   3rd Qu.:0.02430   3rd Qu.:0.8000  \n",
            " Max.   :0.8856   Max.   :1.0000   Max.   :0.62260   Max.   :1.0000  \n",
            " Edges_Y_Index    Outside_Global_Index   LogOfAreas      Log_X_Index    \n",
            " Min.   :0.0484   Min.   :0.0000       Min.   :0.9542   Min.   :0.6021  \n",
            " 1st Qu.:0.5955   1st Qu.:0.0000       1st Qu.:1.9494   1st Qu.:1.0000  \n",
            " Median :0.9444   Median :1.0000       Median :2.2430   Median :1.2041  \n",
            " Mean   :0.8115   Mean   :0.5629       Mean   :2.5141   Mean   :1.3546  \n",
            " 3rd Qu.:1.0000   3rd Qu.:1.0000       3rd Qu.:2.9708   3rd Qu.:1.5315  \n",
            " Max.   :1.0000   Max.   :1.0000       Max.   :4.4035   Max.   :2.9335  \n",
            "  Log_Y_Index    Orientation_Index  Luminosity_Index  SigmoidOfAreas  \n",
            " Min.   :0.301   Min.   :-0.99100   Min.   :-0.6096   Min.   :0.1284  \n",
            " 1st Qu.:1.114   1st Qu.:-0.37500   1st Qu.:-0.1937   1st Qu.:0.2583  \n",
            " Median :1.322   Median : 0.08980   Median :-0.1374   Median :0.5296  \n",
            " Mean   :1.408   Mean   : 0.06799   Mean   :-0.1321   Mean   :0.5949  \n",
            " 3rd Qu.:1.724   3rd Qu.: 0.50000   3rd Qu.:-0.0698   3rd Qu.:0.9999  \n",
            " Max.   :2.776   Max.   : 0.96070   Max.   : 0.5916   Max.   :1.0000  \n"
          ],
          "name": "stdout"
        }
      ]
    },
    {
      "cell_type": "code",
      "metadata": {
        "id": "4V3JbHj_aj-5"
      },
      "source": [
        "%%R\n",
        "#Se procesa la información para la prueba\n",
        "Faults_test <- Faults_test %>% add_column(Fault = 0)\n",
        "baked_test <- bake(receta, Faults_test)\n",
        "x_test_db <- baked_test %>%\n",
        "select(-Fault) %>%\n",
        "as.matrix()\n",
        "y_vec_test <- baked_test %>%\n",
        "select(Fault) %>%\n",
        "pull()"
      ],
      "execution_count": 29,
      "outputs": []
    },
    {
      "cell_type": "code",
      "metadata": {
        "colab": {
          "base_uri": "https://localhost:8080/"
        },
        "id": "I7e2tUd7akCk",
        "outputId": "5c7bea3a-0377-410a-a093-e658ed9a8d66"
      },
      "source": [
        "%%R\n",
        "#Se muestra la información de las variables en la base de datos de prueba\n",
        "skim_to_wide(baked_test)"
      ],
      "execution_count": 30,
      "outputs": [
        {
          "output_type": "stream",
          "text": [
            "── Data Summary ────────────────────────\n",
            "                           Values\n",
            "Name                       .data \n",
            "Number of rows             485   \n",
            "Number of columns          28    \n",
            "_______________________          \n",
            "Column type frequency:           \n",
            "  factor                   1     \n",
            "  numeric                  27    \n",
            "________________________         \n",
            "Group variables            None  \n",
            "\n",
            "── Variable type: factor ───────────────────────────────────────────────────────\n",
            "  skim_variable n_missing complete_rate ordered n_unique\n",
            "1 Fault               485             0 FALSE          0\n",
            "  top_counts                    \n",
            "1 Bum: 0, Dir: 0, K_S: 0, Oth: 0\n",
            "\n",
            "── Variable type: numeric ──────────────────────────────────────────────────────\n",
            "   skim_variable         n_missing complete_rate   mean    sd       p0     p25\n",
            " 1 X_Minimum                     0             1  1.11  1.03   0        0.0948\n",
            " 2 X_Maximum                     0             1  1.26  1.03   0.0162   0.385 \n",
            " 3 Y_Minimum                     0             1  0.862 0.881  0.00430  0.223 \n",
            " 4 Y_Maximum                     0             1  0.862 0.881  0.00431  0.223 \n",
            " 5 Pixels_Areas                  0             1  0.335 0.695  0.00162  0.0161\n",
            " 6 X_Perimeter                   0             1  0.322 0.557  0.0121   0.0453\n",
            " 7 Y_Perimeter                   0             1  0.152 0.238  0.00410  0.0287\n",
            " 8 Sum_of_Luminosity             0             1  0.384 0.833  0.00199  0.0194\n",
            " 9 Minimum_of_Luminosity         0             1  2.60  0.972  0.494    1.95  \n",
            "10 Maximum_of_Luminosity         0             1  7.08  1.05   3.85     6.72  \n",
            "11 Length_of_Conveyer            0             1 10.2   1.03   8.54     9.46  \n",
            "12 TypeOfSteel_A300              0             1  0.803 0.997  0        0     \n",
            "13 TypeOfSteel_A400              0             1  1.24  0.997  0        0     \n",
            "14 Steel_Plate_Thickness         0             1  1.49  1.06   0.737    0.737 \n",
            "15 Edges_Index                   0             1  1.07  0.995  0        0.201 \n",
            "16 Empty_Index                   0             1  3.05  1.03   0.270    2.35  \n",
            "17 Square_Index                  0             1  2.08  0.985  0.0331   1.35  \n",
            "18 Outside_X_Index               0             1  0.584 0.980  0.0405   0.111 \n",
            "19 Edges_X_Index                 0             1  2.51  0.981  0.264    1.68  \n",
            "20 Edges_Y_Index                 0             1  3.46  1.00   0.207    2.54  \n",
            "21 Outside_Global_Index          0             1  1.17  1.01   0        0     \n",
            "22 LogOfAreas                    0             1  3.18  0.996  1.21     2.47  \n",
            "23 Log_X_Index                   0             1  2.82  1.01   1.25     2.08  \n",
            "24 Log_Y_Index                   0             1  3.09  0.985  0.660    2.44  \n",
            "25 Orientation_Index             0             1  0.136 1.02  -1.99    -0.752 \n",
            "26 Luminosity_Index              0             1 -0.871 0.918 -4.02    -1.28  \n",
            "27 SigmoidOfAreas                0             1  1.75  0.989  0.377    0.759 \n",
            "       p50    p75  p100 hist \n",
            " 1  0.861   2.05   3.27 ▇▂▂▃▂\n",
            " 2  0.969   2.19   3.44 ▇▂▂▃▂\n",
            " 3  0.611   1.20   5.72 ▇▂▁▁▁\n",
            " 4  0.611   1.20   5.72 ▇▂▁▁▁\n",
            " 5  0.0316  0.169  4.57 ▇▁▁▁▁\n",
            " 6  0.0845  0.272  3.27 ▇▁▁▁▁\n",
            " 7  0.0512  0.182  1.39 ▇▁▁▁▁\n",
            " 8  0.0368  0.179  5.70 ▇▁▁▁▁\n",
            " 9  2.78    3.27   6.02 ▃▅▇▁▁\n",
            "10  6.88    7.58  13.7  ▁▇▁▁▁\n",
            "11  9.50   11.5   12.5  ▁▇▁▁▂\n",
            "12  0       2.04   2.04 ▇▁▁▁▅\n",
            "13  2.04    2.04   2.04 ▅▁▁▁▇\n",
            "14  1.29    1.47   5.53 ▇▁▁▁▁\n",
            "15  0.707   1.78   3.30 ▇▃▂▂▂\n",
            "16  2.97    3.83   6.50 ▁▇▇▃▁\n",
            "17  2.07    2.94   3.68 ▃▇▇▇▇\n",
            "18  0.174   0.410 10.5  ▇▁▁▁▁\n",
            "19  2.62    3.27   4.09 ▂▅▆▇▆\n",
            "20  4.03    4.27   4.27 ▁▁▂▁▇\n",
            "21  2.08    2.08   2.08 ▆▁▁▁▇\n",
            "22  2.84    3.76   5.57 ▁▇▃▂▂\n",
            "23  2.51    3.19   6.11 ▆▇▁▃▁\n",
            "24  2.90    3.78   6.08 ▂▇▇▃▁\n",
            "25  0.180   1.00   1.93 ▅▆▇▇▇\n",
            "26 -0.905  -0.460  3.90 ▁▇▇▁▁\n",
            "27  1.56    2.94   2.94 ▆▃▂▁▇\n"
          ],
          "name": "stdout"
        }
      ]
    },
    {
      "cell_type": "markdown",
      "metadata": {
        "id": "yrGcrCiDdnif"
      },
      "source": [
        "## Entrenamiento del modelo de clasificación."
      ]
    },
    {
      "cell_type": "code",
      "metadata": {
        "colab": {
          "base_uri": "https://localhost:8080/",
          "height": 407
        },
        "id": "1gOo1-vsrPq5",
        "outputId": "a995bc97-a3b6-4196-eeb3-a930d33cf542"
      },
      "source": [
        "%%R\n",
        "\n",
        "install.packages(“devtools”)\n",
        "library(devtools)\n",
        "install.packages(“reticulate”)\n",
        "library(reticulate)\n",
        "install_github(“rstudio/keras”) \n",
        "library(keras)\n",
        "install_keras(tensorflow = “gpu”)\n",
        "reticulate::py_config() \n",
        "reticulate::py_module_available(“keras”)\n",
        "\n",
        "#install.packages(\"keras\")\n",
        "library(keras)\n",
        "#library(tidyverse)"
      ],
      "execution_count": 32,
      "outputs": [
        {
          "output_type": "error",
          "ename": "RParsingError",
          "evalue": "ignored",
          "traceback": [
            "\u001b[0;31m---------------------------------------------------------------------------\u001b[0m",
            "\u001b[0;31mRParsingError\u001b[0m                             Traceback (most recent call last)",
            "\u001b[0;32m<ipython-input-32-4be01d38cd94>\u001b[0m in \u001b[0;36m<module>\u001b[0;34m()\u001b[0m\n\u001b[0;32m----> 1\u001b[0;31m \u001b[0mget_ipython\u001b[0m\u001b[0;34m(\u001b[0m\u001b[0;34m)\u001b[0m\u001b[0;34m.\u001b[0m\u001b[0mrun_cell_magic\u001b[0m\u001b[0;34m(\u001b[0m\u001b[0;34m'R'\u001b[0m\u001b[0;34m,\u001b[0m \u001b[0;34m''\u001b[0m\u001b[0;34m,\u001b[0m \u001b[0;34m'\\ninstall.packages(“devtools”)\\nlibrary(devtools)\\ninstall.packages(“reticulate”)\\nlibrary(reticulate)\\ninstall_github(“rstudio/keras”) \\nlibrary(keras)\\ninstall_keras(tensorflow = “gpu”)\\nreticulate::py_config() \\nreticulate::py_module_available(“keras”)\\n\\n#install.packages(\"keras\")\\nlibrary(keras)\\n#library(tidyverse)'\u001b[0m\u001b[0;34m)\u001b[0m\u001b[0;34m\u001b[0m\u001b[0;34m\u001b[0m\u001b[0m\n\u001b[0m",
            "\u001b[0;32m/usr/local/lib/python3.7/dist-packages/IPython/core/interactiveshell.py\u001b[0m in \u001b[0;36mrun_cell_magic\u001b[0;34m(self, magic_name, line, cell)\u001b[0m\n\u001b[1;32m   2115\u001b[0m             \u001b[0mmagic_arg_s\u001b[0m \u001b[0;34m=\u001b[0m \u001b[0mself\u001b[0m\u001b[0;34m.\u001b[0m\u001b[0mvar_expand\u001b[0m\u001b[0;34m(\u001b[0m\u001b[0mline\u001b[0m\u001b[0;34m,\u001b[0m \u001b[0mstack_depth\u001b[0m\u001b[0;34m)\u001b[0m\u001b[0;34m\u001b[0m\u001b[0;34m\u001b[0m\u001b[0m\n\u001b[1;32m   2116\u001b[0m             \u001b[0;32mwith\u001b[0m \u001b[0mself\u001b[0m\u001b[0;34m.\u001b[0m\u001b[0mbuiltin_trap\u001b[0m\u001b[0;34m:\u001b[0m\u001b[0;34m\u001b[0m\u001b[0;34m\u001b[0m\u001b[0m\n\u001b[0;32m-> 2117\u001b[0;31m                 \u001b[0mresult\u001b[0m \u001b[0;34m=\u001b[0m \u001b[0mfn\u001b[0m\u001b[0;34m(\u001b[0m\u001b[0mmagic_arg_s\u001b[0m\u001b[0;34m,\u001b[0m \u001b[0mcell\u001b[0m\u001b[0;34m)\u001b[0m\u001b[0;34m\u001b[0m\u001b[0;34m\u001b[0m\u001b[0m\n\u001b[0m\u001b[1;32m   2118\u001b[0m             \u001b[0;32mreturn\u001b[0m \u001b[0mresult\u001b[0m\u001b[0;34m\u001b[0m\u001b[0;34m\u001b[0m\u001b[0m\n\u001b[1;32m   2119\u001b[0m \u001b[0;34m\u001b[0m\u001b[0m\n",
            "\u001b[0;32m<decorator-gen-119>\u001b[0m in \u001b[0;36mR\u001b[0;34m(self, line, cell, local_ns)\u001b[0m\n",
            "\u001b[0;32m/usr/local/lib/python3.7/dist-packages/IPython/core/magic.py\u001b[0m in \u001b[0;36m<lambda>\u001b[0;34m(f, *a, **k)\u001b[0m\n\u001b[1;32m    186\u001b[0m     \u001b[0;31m# but it's overkill for just that one bit of state.\u001b[0m\u001b[0;34m\u001b[0m\u001b[0;34m\u001b[0m\u001b[0;34m\u001b[0m\u001b[0m\n\u001b[1;32m    187\u001b[0m     \u001b[0;32mdef\u001b[0m \u001b[0mmagic_deco\u001b[0m\u001b[0;34m(\u001b[0m\u001b[0marg\u001b[0m\u001b[0;34m)\u001b[0m\u001b[0;34m:\u001b[0m\u001b[0;34m\u001b[0m\u001b[0;34m\u001b[0m\u001b[0m\n\u001b[0;32m--> 188\u001b[0;31m         \u001b[0mcall\u001b[0m \u001b[0;34m=\u001b[0m \u001b[0;32mlambda\u001b[0m \u001b[0mf\u001b[0m\u001b[0;34m,\u001b[0m \u001b[0;34m*\u001b[0m\u001b[0ma\u001b[0m\u001b[0;34m,\u001b[0m \u001b[0;34m**\u001b[0m\u001b[0mk\u001b[0m\u001b[0;34m:\u001b[0m \u001b[0mf\u001b[0m\u001b[0;34m(\u001b[0m\u001b[0;34m*\u001b[0m\u001b[0ma\u001b[0m\u001b[0;34m,\u001b[0m \u001b[0;34m**\u001b[0m\u001b[0mk\u001b[0m\u001b[0;34m)\u001b[0m\u001b[0;34m\u001b[0m\u001b[0;34m\u001b[0m\u001b[0m\n\u001b[0m\u001b[1;32m    189\u001b[0m \u001b[0;34m\u001b[0m\u001b[0m\n\u001b[1;32m    190\u001b[0m         \u001b[0;32mif\u001b[0m \u001b[0mcallable\u001b[0m\u001b[0;34m(\u001b[0m\u001b[0marg\u001b[0m\u001b[0;34m)\u001b[0m\u001b[0;34m:\u001b[0m\u001b[0;34m\u001b[0m\u001b[0;34m\u001b[0m\u001b[0m\n",
            "\u001b[0;32m/usr/local/lib/python3.7/dist-packages/rpy2/ipython/rmagic.py\u001b[0m in \u001b[0;36mR\u001b[0;34m(self, line, cell, local_ns)\u001b[0m\n\u001b[1;32m    761\u001b[0m                     \u001b[0mreturn_output\u001b[0m \u001b[0;34m=\u001b[0m \u001b[0;32mFalse\u001b[0m\u001b[0;34m\u001b[0m\u001b[0;34m\u001b[0m\u001b[0m\n\u001b[1;32m    762\u001b[0m             \u001b[0;32melse\u001b[0m\u001b[0;34m:\u001b[0m\u001b[0;34m\u001b[0m\u001b[0;34m\u001b[0m\u001b[0m\n\u001b[0;32m--> 763\u001b[0;31m                 \u001b[0mtext_result\u001b[0m\u001b[0;34m,\u001b[0m \u001b[0mresult\u001b[0m\u001b[0;34m,\u001b[0m \u001b[0mvisible\u001b[0m \u001b[0;34m=\u001b[0m \u001b[0mself\u001b[0m\u001b[0;34m.\u001b[0m\u001b[0meval\u001b[0m\u001b[0;34m(\u001b[0m\u001b[0mcode\u001b[0m\u001b[0;34m)\u001b[0m\u001b[0;34m\u001b[0m\u001b[0;34m\u001b[0m\u001b[0m\n\u001b[0m\u001b[1;32m    764\u001b[0m                 \u001b[0mtext_output\u001b[0m \u001b[0;34m+=\u001b[0m \u001b[0mtext_result\u001b[0m\u001b[0;34m\u001b[0m\u001b[0;34m\u001b[0m\u001b[0m\n\u001b[1;32m    765\u001b[0m                 \u001b[0;32mif\u001b[0m \u001b[0mvisible\u001b[0m\u001b[0;34m:\u001b[0m\u001b[0;34m\u001b[0m\u001b[0;34m\u001b[0m\u001b[0m\n",
            "\u001b[0;32m/usr/local/lib/python3.7/dist-packages/rpy2/ipython/rmagic.py\u001b[0m in \u001b[0;36meval\u001b[0;34m(self, code)\u001b[0m\n\u001b[1;32m    266\u001b[0m             \u001b[0;32mtry\u001b[0m\u001b[0;34m:\u001b[0m\u001b[0;34m\u001b[0m\u001b[0;34m\u001b[0m\u001b[0m\n\u001b[1;32m    267\u001b[0m                 \u001b[0;31m# Need the newline in case the last line in code is a comment.\u001b[0m\u001b[0;34m\u001b[0m\u001b[0;34m\u001b[0m\u001b[0;34m\u001b[0m\u001b[0m\n\u001b[0;32m--> 268\u001b[0;31m                 \u001b[0mvalue\u001b[0m\u001b[0;34m,\u001b[0m \u001b[0mvisible\u001b[0m \u001b[0;34m=\u001b[0m \u001b[0mro\u001b[0m\u001b[0;34m.\u001b[0m\u001b[0mr\u001b[0m\u001b[0;34m(\u001b[0m\u001b[0;34m\"withVisible({%s\\n})\"\u001b[0m \u001b[0;34m%\u001b[0m \u001b[0mcode\u001b[0m\u001b[0;34m)\u001b[0m\u001b[0;34m\u001b[0m\u001b[0;34m\u001b[0m\u001b[0m\n\u001b[0m\u001b[1;32m    269\u001b[0m             \u001b[0;32mexcept\u001b[0m \u001b[0;34m(\u001b[0m\u001b[0mri\u001b[0m\u001b[0;34m.\u001b[0m\u001b[0membedded\u001b[0m\u001b[0;34m.\u001b[0m\u001b[0mRRuntimeError\u001b[0m\u001b[0;34m,\u001b[0m \u001b[0mValueError\u001b[0m\u001b[0;34m)\u001b[0m \u001b[0;32mas\u001b[0m \u001b[0mexception\u001b[0m\u001b[0;34m:\u001b[0m\u001b[0;34m\u001b[0m\u001b[0;34m\u001b[0m\u001b[0m\n\u001b[1;32m    270\u001b[0m                 \u001b[0;31m# Otherwise next return seems to have copy of error.\u001b[0m\u001b[0;34m\u001b[0m\u001b[0;34m\u001b[0m\u001b[0;34m\u001b[0m\u001b[0m\n",
            "\u001b[0;32m/usr/local/lib/python3.7/dist-packages/rpy2/robjects/__init__.py\u001b[0m in \u001b[0;36m__call__\u001b[0;34m(self, string)\u001b[0m\n\u001b[1;32m    435\u001b[0m \u001b[0;34m\u001b[0m\u001b[0m\n\u001b[1;32m    436\u001b[0m     \u001b[0;32mdef\u001b[0m \u001b[0m__call__\u001b[0m\u001b[0;34m(\u001b[0m\u001b[0mself\u001b[0m\u001b[0;34m,\u001b[0m \u001b[0mstring\u001b[0m\u001b[0;34m)\u001b[0m\u001b[0;34m:\u001b[0m\u001b[0;34m\u001b[0m\u001b[0;34m\u001b[0m\u001b[0m\n\u001b[0;32m--> 437\u001b[0;31m         \u001b[0mp\u001b[0m \u001b[0;34m=\u001b[0m \u001b[0mrinterface\u001b[0m\u001b[0;34m.\u001b[0m\u001b[0mparse\u001b[0m\u001b[0;34m(\u001b[0m\u001b[0mstring\u001b[0m\u001b[0;34m)\u001b[0m\u001b[0;34m\u001b[0m\u001b[0;34m\u001b[0m\u001b[0m\n\u001b[0m\u001b[1;32m    438\u001b[0m         \u001b[0mres\u001b[0m \u001b[0;34m=\u001b[0m \u001b[0mself\u001b[0m\u001b[0;34m.\u001b[0m\u001b[0meval\u001b[0m\u001b[0;34m(\u001b[0m\u001b[0mp\u001b[0m\u001b[0;34m)\u001b[0m\u001b[0;34m\u001b[0m\u001b[0;34m\u001b[0m\u001b[0m\n\u001b[1;32m    439\u001b[0m         \u001b[0;32mreturn\u001b[0m \u001b[0mconversion\u001b[0m\u001b[0;34m.\u001b[0m\u001b[0mrpy2py\u001b[0m\u001b[0;34m(\u001b[0m\u001b[0mres\u001b[0m\u001b[0;34m)\u001b[0m\u001b[0;34m\u001b[0m\u001b[0;34m\u001b[0m\u001b[0m\n",
            "\u001b[0;32m/usr/local/lib/python3.7/dist-packages/rpy2/rinterface_lib/conversion.py\u001b[0m in \u001b[0;36m_\u001b[0;34m(*args, **kwargs)\u001b[0m\n\u001b[1;32m     43\u001b[0m \u001b[0;32mdef\u001b[0m \u001b[0m_cdata_res_to_rinterface\u001b[0m\u001b[0;34m(\u001b[0m\u001b[0mfunction\u001b[0m\u001b[0;34m)\u001b[0m\u001b[0;34m:\u001b[0m\u001b[0;34m\u001b[0m\u001b[0;34m\u001b[0m\u001b[0m\n\u001b[1;32m     44\u001b[0m     \u001b[0;32mdef\u001b[0m \u001b[0m_\u001b[0m\u001b[0;34m(\u001b[0m\u001b[0;34m*\u001b[0m\u001b[0margs\u001b[0m\u001b[0;34m,\u001b[0m \u001b[0;34m**\u001b[0m\u001b[0mkwargs\u001b[0m\u001b[0;34m)\u001b[0m\u001b[0;34m:\u001b[0m\u001b[0;34m\u001b[0m\u001b[0;34m\u001b[0m\u001b[0m\n\u001b[0;32m---> 45\u001b[0;31m         \u001b[0mcdata\u001b[0m \u001b[0;34m=\u001b[0m \u001b[0mfunction\u001b[0m\u001b[0;34m(\u001b[0m\u001b[0;34m*\u001b[0m\u001b[0margs\u001b[0m\u001b[0;34m,\u001b[0m \u001b[0;34m**\u001b[0m\u001b[0mkwargs\u001b[0m\u001b[0;34m)\u001b[0m\u001b[0;34m\u001b[0m\u001b[0;34m\u001b[0m\u001b[0m\n\u001b[0m\u001b[1;32m     46\u001b[0m         \u001b[0;31m# TODO: test cdata is of the expected CType\u001b[0m\u001b[0;34m\u001b[0m\u001b[0;34m\u001b[0m\u001b[0;34m\u001b[0m\u001b[0m\n\u001b[1;32m     47\u001b[0m         \u001b[0;32mreturn\u001b[0m \u001b[0m_cdata_to_rinterface\u001b[0m\u001b[0;34m(\u001b[0m\u001b[0mcdata\u001b[0m\u001b[0;34m)\u001b[0m\u001b[0;34m\u001b[0m\u001b[0;34m\u001b[0m\u001b[0m\n",
            "\u001b[0;32m/usr/local/lib/python3.7/dist-packages/rpy2/rinterface.py\u001b[0m in \u001b[0;36mparse\u001b[0;34m(text, num)\u001b[0m\n\u001b[1;32m    101\u001b[0m     \u001b[0mrobj\u001b[0m \u001b[0;34m=\u001b[0m \u001b[0mStrSexpVector\u001b[0m\u001b[0;34m(\u001b[0m\u001b[0;34m[\u001b[0m\u001b[0mtext\u001b[0m\u001b[0;34m]\u001b[0m\u001b[0;34m)\u001b[0m\u001b[0;34m\u001b[0m\u001b[0;34m\u001b[0m\u001b[0m\n\u001b[1;32m    102\u001b[0m     \u001b[0;32mwith\u001b[0m \u001b[0mmemorymanagement\u001b[0m\u001b[0;34m.\u001b[0m\u001b[0mrmemory\u001b[0m\u001b[0;34m(\u001b[0m\u001b[0;34m)\u001b[0m \u001b[0;32mas\u001b[0m \u001b[0mrmemory\u001b[0m\u001b[0;34m:\u001b[0m\u001b[0;34m\u001b[0m\u001b[0;34m\u001b[0m\u001b[0m\n\u001b[0;32m--> 103\u001b[0;31m         \u001b[0mres\u001b[0m \u001b[0;34m=\u001b[0m \u001b[0m_rinterface\u001b[0m\u001b[0;34m.\u001b[0m\u001b[0m_parse\u001b[0m\u001b[0;34m(\u001b[0m\u001b[0mrobj\u001b[0m\u001b[0;34m.\u001b[0m\u001b[0m__sexp__\u001b[0m\u001b[0;34m.\u001b[0m\u001b[0m_cdata\u001b[0m\u001b[0;34m,\u001b[0m \u001b[0mnum\u001b[0m\u001b[0;34m,\u001b[0m \u001b[0mrmemory\u001b[0m\u001b[0;34m)\u001b[0m\u001b[0;34m\u001b[0m\u001b[0;34m\u001b[0m\u001b[0m\n\u001b[0m\u001b[1;32m    104\u001b[0m     \u001b[0;32mreturn\u001b[0m \u001b[0mres\u001b[0m\u001b[0;34m\u001b[0m\u001b[0;34m\u001b[0m\u001b[0m\n\u001b[1;32m    105\u001b[0m \u001b[0;34m\u001b[0m\u001b[0m\n",
            "\u001b[0;32m/usr/local/lib/python3.7/dist-packages/rpy2/rinterface_lib/_rinterface_capi.py\u001b[0m in \u001b[0;36m_parse\u001b[0;34m(cdata, num, rmemory)\u001b[0m\n\u001b[1;32m    651\u001b[0m     \u001b[0;32mif\u001b[0m \u001b[0mstatus\u001b[0m\u001b[0;34m[\u001b[0m\u001b[0;36m0\u001b[0m\u001b[0;34m]\u001b[0m \u001b[0;34m!=\u001b[0m \u001b[0mopenrlib\u001b[0m\u001b[0;34m.\u001b[0m\u001b[0mrlib\u001b[0m\u001b[0;34m.\u001b[0m\u001b[0mPARSE_OK\u001b[0m\u001b[0;34m:\u001b[0m\u001b[0;34m\u001b[0m\u001b[0;34m\u001b[0m\u001b[0m\n\u001b[1;32m    652\u001b[0m         raise RParsingError('Parsing status not OK',\n\u001b[0;32m--> 653\u001b[0;31m                             status=PARSING_STATUS(status[0]))\n\u001b[0m\u001b[1;32m    654\u001b[0m     \u001b[0;32mreturn\u001b[0m \u001b[0mres\u001b[0m\u001b[0;34m\u001b[0m\u001b[0;34m\u001b[0m\u001b[0m\n",
            "\u001b[0;31mRParsingError\u001b[0m: Parsing status not OK - PARSING_STATUS.PARSE_ERROR"
          ]
        }
      ]
    },
    {
      "cell_type": "code",
      "metadata": {
        "id": "xmq3cOS1d8d9"
      },
      "source": [
        "%%R\n",
        "#Empleando la librería Keras, se procesa el modelo\n",
        "model <- keras_model_sequential() %>%\n",
        "  layer_dense(\n",
        "    units = 27, \n",
        "    kernel_initializer = \"uniform\", \n",
        "    activation = \"relu\", \n",
        "    input_shape = ncol(x_train_db)) %>% \n",
        "  layer_dropout(rate = 0.1) %>%\n",
        "  layer_dense(\n",
        "    units = 16, \n",
        "    kernel_initializer = \"uniform\", \n",
        "    activation = \"relu\") %>% \n",
        "  layer_dropout(rate = 0.1) %>%\n",
        "  layer_dense(\n",
        "    units = 1, \n",
        "    kernel_initializer = \"uniform\", \n",
        "    activation = \"sigmoid\") %>% \n",
        "  compile(\n",
        "    optimizer = 'adam',\n",
        "    loss = 'binary_crossentropy',\n",
        "    metrics = c('accuracy')\n",
        "  )\n",
        "\n",
        "model_keras"
      ],
      "execution_count": null,
      "outputs": []
    },
    {
      "cell_type": "code",
      "metadata": {
        "id": "fMTyAGCWd8vq"
      },
      "source": [
        "%%R\n",
        "history <- fit(\n",
        "  object = model, \n",
        "  x = x_train_db, \n",
        "  y = y_train_db,\n",
        "  batch_size = 50, \n",
        "  epochs = 35,\n",
        "  validation_split = 0.30,\n",
        "  verbose = 0\n",
        ")"
      ],
      "execution_count": null,
      "outputs": []
    },
    {
      "cell_type": "code",
      "metadata": {
        "id": "i5wTwbjJnU9K"
      },
      "source": [
        "%%R\n",
        "print(history)"
      ],
      "execution_count": null,
      "outputs": []
    },
    {
      "cell_type": "code",
      "metadata": {
        "id": "4_spGhUmnVLN"
      },
      "source": [
        "%%R\n",
        "theme_set(theme_bw())\n",
        "plot(history) "
      ],
      "execution_count": null,
      "outputs": []
    },
    {
      "cell_type": "markdown",
      "metadata": {
        "id": "qFo38RAt1U91"
      },
      "source": [
        "# Conclusiones"
      ]
    },
    {
      "cell_type": "markdown",
      "metadata": {
        "id": "NyTMIaxkXVr9"
      },
      "source": [
        "Como se muestra en la gráfica 1, es más común que no se presenten fallas. Sin embargo, se recomienda identificar las causas de mayor interés **Bumps**, **K_Scatch** y **Otras fallas** por la itinerancia de eventos, como se muestra en la gráfica 2."
      ]
    },
    {
      "cell_type": "code",
      "metadata": {
        "id": "bSUej7P1ZtMZ"
      },
      "source": [
        ""
      ],
      "execution_count": null,
      "outputs": []
    }
  ]
}